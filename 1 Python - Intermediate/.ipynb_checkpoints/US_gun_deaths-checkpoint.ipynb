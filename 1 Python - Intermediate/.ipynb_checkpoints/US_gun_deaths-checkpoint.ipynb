{
 "cells": [
  {
   "cell_type": "markdown",
   "metadata": {
    "collapsed": true
   },
   "source": [
    "# Read dataset into a list"
   ]
  },
  {
   "cell_type": "code",
   "execution_count": 7,
   "metadata": {
    "collapsed": false
   },
   "outputs": [],
   "source": [
    "import csv\n",
    "f = open(\"guns.csv\", \"r\")\n",
    "data = list(csv.reader(f))\n",
    "\n",
    "#print(data[:5])"
   ]
  },
  {
   "cell_type": "markdown",
   "metadata": {},
   "source": [
    "# Extract header and display"
   ]
  },
  {
   "cell_type": "code",
   "execution_count": 10,
   "metadata": {
    "collapsed": false
   },
   "outputs": [],
   "source": [
    "headers = data[0]\n",
    "data = data[1:]\n",
    "#print(type(data))\n",
    "#print(headers)\n",
    "#print(data[:5])"
   ]
  },
  {
   "cell_type": "markdown",
   "metadata": {},
   "source": [
    "# Count gun deaths by year"
   ]
  },
  {
   "cell_type": "code",
   "execution_count": 14,
   "metadata": {
    "collapsed": false
   },
   "outputs": [
    {
     "name": "stdout",
     "output_type": "stream",
     "text": [
      "{'2014': 33599, '2013': 33636, '2012': 33562}\n"
     ]
    }
   ],
   "source": [
    "years = [row[1] for row in data]\n",
    "# print(years)\n",
    "year_counts = {}\n",
    "\n",
    "for year in years:\n",
    "    if year in year_counts:\n",
    "        year_counts[year] += 1\n",
    "    else:\n",
    "        year_counts[year] = 1\n",
    "\n",
    "print(year_counts)"
   ]
  },
  {
   "cell_type": "markdown",
   "metadata": {},
   "source": [
    "# Explore gun deaths by month and year"
   ]
  },
  {
   "cell_type": "code",
   "execution_count": 21,
   "metadata": {
    "collapsed": false
   },
   "outputs": [
    {
     "name": "stdout",
     "output_type": "stream",
     "text": [
      "[datetime.datetime(2012, 1, 1, 0, 0), datetime.datetime(2012, 1, 1, 0, 0), datetime.datetime(2012, 2, 1, 0, 0), datetime.datetime(2012, 2, 1, 0, 0), datetime.datetime(2012, 2, 1, 0, 0)]\n",
      "{datetime.datetime(2013, 7, 1, 0, 0): 3079, datetime.datetime(2014, 8, 1, 0, 0): 2970, datetime.datetime(2012, 1, 1, 0, 0): 2757, datetime.datetime(2013, 3, 1, 0, 0): 2862, datetime.datetime(2014, 4, 1, 0, 0): 2862, datetime.datetime(2013, 12, 1, 0, 0): 2765, datetime.datetime(2014, 2, 1, 0, 0): 2361, datetime.datetime(2014, 11, 1, 0, 0): 2756, datetime.datetime(2012, 2, 1, 0, 0): 2357, datetime.datetime(2012, 3, 1, 0, 0): 2743, datetime.datetime(2012, 6, 1, 0, 0): 2826, datetime.datetime(2013, 1, 1, 0, 0): 2864, datetime.datetime(2014, 9, 1, 0, 0): 2914, datetime.datetime(2013, 11, 1, 0, 0): 2758, datetime.datetime(2012, 8, 1, 0, 0): 2954, datetime.datetime(2012, 9, 1, 0, 0): 2852, datetime.datetime(2013, 8, 1, 0, 0): 2859, datetime.datetime(2012, 10, 1, 0, 0): 2733, datetime.datetime(2014, 10, 1, 0, 0): 2865, datetime.datetime(2012, 5, 1, 0, 0): 2999, datetime.datetime(2014, 6, 1, 0, 0): 2931, datetime.datetime(2014, 12, 1, 0, 0): 2857, datetime.datetime(2013, 10, 1, 0, 0): 2808, datetime.datetime(2013, 9, 1, 0, 0): 2742, datetime.datetime(2014, 5, 1, 0, 0): 2864, datetime.datetime(2012, 12, 1, 0, 0): 2791, datetime.datetime(2013, 5, 1, 0, 0): 2806, datetime.datetime(2014, 3, 1, 0, 0): 2684, datetime.datetime(2012, 4, 1, 0, 0): 2795, datetime.datetime(2013, 2, 1, 0, 0): 2375, datetime.datetime(2014, 1, 1, 0, 0): 2651, datetime.datetime(2012, 7, 1, 0, 0): 3026, datetime.datetime(2014, 7, 1, 0, 0): 2884, datetime.datetime(2013, 6, 1, 0, 0): 2920, datetime.datetime(2012, 11, 1, 0, 0): 2729, datetime.datetime(2013, 4, 1, 0, 0): 2798}\n"
     ]
    }
   ],
   "source": [
    "import datetime\n",
    "\n",
    "dates = []\n",
    "date_counts = {}\n",
    "\n",
    "for row in data:\n",
    "    year = int(row[1])\n",
    "    month = int(row[2])\n",
    "    date = datetime.datetime(year=year, month=month, day=1)\n",
    "    dates.append(date)\n",
    "    if date in date_counts:\n",
    "        date_counts[date] += 1\n",
    "    else:\n",
    "        date_counts[date] = 1\n",
    "        \n",
    "print(dates[:5])\n",
    "print(date_counts)"
   ]
  },
  {
   "cell_type": "markdown",
   "metadata": {},
   "source": [
    "# Explore gun deaths by race and sex"
   ]
  },
  {
   "cell_type": "code",
   "execution_count": 19,
   "metadata": {
    "collapsed": false
   },
   "outputs": [
    {
     "name": "stdout",
     "output_type": "stream",
     "text": [
      "{'M': 86348, 'F': 14449}\n",
      "{'Native American/Native Alaskan': 917, 'Asian/Pacific Islander': 1325, 'White': 66237, 'Black': 23296, 'Hispanic': 9022}\n"
     ]
    }
   ],
   "source": [
    "sex_counts = {}\n",
    "race_counts = {}\n",
    "\n",
    "def add_to_dict_counter(item, d):\n",
    "    if item in d:\n",
    "        d[item] += 1\n",
    "    else:\n",
    "        d[item] = 1\n",
    "        \n",
    "        \n",
    "for row in data:\n",
    "    sex = row[5]\n",
    "    race = row[7]\n",
    "    add_to_dict_counter(sex, sex_counts)\n",
    "    add_to_dict_counter(race, race_counts)\n",
    "    \n",
    "print(sex_counts)\n",
    "print(race_counts)"
   ]
  },
  {
   "cell_type": "markdown",
   "metadata": {},
   "source": [
    "# Some conclusions\n",
    "1. It seems the death by month or year is pretty average\n",
    "2.  Males tend to die from gun shots much more than females\n",
    "3.  White and black people are more likely to die for gun shots than other races"
   ]
  },
  {
   "cell_type": "markdown",
   "metadata": {},
   "source": [
    "# Read census.csv"
   ]
  },
  {
   "cell_type": "code",
   "execution_count": 23,
   "metadata": {
    "collapsed": false
   },
   "outputs": [
    {
     "name": "stdout",
     "output_type": "stream",
     "text": [
      "[['Id', 'Year', 'Id', 'Sex', 'Id', 'Hispanic Origin', 'Id', 'Id2', 'Geography', 'Total', 'Race Alone - White', 'Race Alone - Hispanic', 'Race Alone - Black or African American', 'Race Alone - American Indian and Alaska Native', 'Race Alone - Asian', 'Race Alone - Native Hawaiian and Other Pacific Islander', 'Two or More Races'], ['cen42010', 'April 1, 2010 Census', 'totsex', 'Both Sexes', 'tothisp', 'Total', '0100000US', '', 'United States', '308745538', '197318956', '44618105', '40250635', '3739506', '15159516', '674625', '6984195']]\n"
     ]
    }
   ],
   "source": [
    "import csv\n",
    "f = open(\"census.csv\", \"r\")\n",
    "census = list(csv.reader(f))\n",
    "\n",
    "print(census)"
   ]
  },
  {
   "cell_type": "markdown",
   "metadata": {},
   "source": [
    "# Process census"
   ]
  },
  {
   "cell_type": "code",
   "execution_count": 29,
   "metadata": {
    "collapsed": false
   },
   "outputs": [
    {
     "name": "stdout",
     "output_type": "stream",
     "text": [
      "{'Native American/Native Alaskan': 3739506, 'Asian/Pacific Islander': 15834141, 'White': 197318956, 'Black': 40250635, 'Hispanic': 44618105}\n",
      "{'Native American/Native Alaskan': 24.521955573811088, 'Black': 57.8773477735196, 'White': 33.56849303419181, 'Asian/Pacific Islander': 8.36799419684339, 'Hispanic': 20.220491210910907}\n"
     ]
    }
   ],
   "source": [
    "mapping = {}\n",
    "\n",
    "headers = census[0]\n",
    "population = census[1]\n",
    "\n",
    "for i, value in enumerate(headers):\n",
    "    if value == \"Race Alone - White\":\n",
    "        mapping[\"White\"] = int(population[i])\n",
    "    elif value == \"Race Alone - American Indian and Alaska Native\":\n",
    "        mapping[\"Native American/Native Alaskan\"] = int(population[i])\n",
    "    elif value == \"Race Alone - Hispanic\":\n",
    "        mapping[\"Hispanic\"] = int(population[i])\n",
    "    elif value == \"Race Alone - Black or African American\":\n",
    "        mapping[\"Black\"] = int(population[i])\n",
    "    elif value == \"Race Alone - Asian\":\n",
    "        if \"Asian/Pacific Islander\" in mapping:\n",
    "            mapping[\"Asian/Pacific Islander\"] += int(population[i])\n",
    "        else:\n",
    "            mapping[\"Asian/Pacific Islander\"] = int(population[i])\n",
    "    elif value == \"Race Alone - Native Hawaiian and Other Pacific Islander\":\n",
    "        if \"Asian/Pacific Islander\" in mapping:\n",
    "            mapping[\"Asian/Pacific Islander\"] += int(population[i])\n",
    "        else:\n",
    "            mapping[\"Asian/Pacific Islander\"] = int(population[i])\n",
    "\n",
    "print(mapping)\n",
    "\n",
    "race_per_hundredk = {}\n",
    "\n",
    "for key in race_counts.keys():\n",
    "    rate = race_counts[key] / mapping[key] * 100000\n",
    "    race_per_hundredk[key] = rate\n",
    "\n",
    "print(race_per_hundredk)"
   ]
  },
  {
   "cell_type": "markdown",
   "metadata": {},
   "source": [
    "# Filter by intent - Homicide"
   ]
  },
  {
   "cell_type": "code",
   "execution_count": 32,
   "metadata": {
    "collapsed": false
   },
   "outputs": [
    {
     "name": "stdout",
     "output_type": "stream",
     "text": [
      "{'Native American/Native Alaskan': 326, 'Black': 19510, 'White': 9147, 'Asian/Pacific Islander': 559, 'Hispanic': 5634}\n",
      "{'Native American/Native Alaskan': 8.717729026240365, 'Asian/Pacific Islander': 3.530346230970155, 'White': 4.6356417981453335, 'Black': 48.471284987180944, 'Hispanic': 12.627161104219914}\n"
     ]
    }
   ],
   "source": [
    "intents = [row[3] for row in data]\n",
    "races = [row[7] for row in data]\n",
    "\n",
    "homicide_race_counts = {}\n",
    "\n",
    "for i, race in enumerate(races):\n",
    "    if intents[i] == \"Homicide\":\n",
    "        if race in homicide_race_counts:\n",
    "            homicide_race_counts[race] += 1\n",
    "        else:\n",
    "            homicide_race_counts[race] = 1\n",
    "\n",
    "print(homicide_race_counts)\n",
    "\n",
    "homicide_race_per_hundredk = {}\n",
    "\n",
    "for key in homicide_race_counts.keys():\n",
    "    rate = homicide_race_counts[key] / mapping[key] * 100000\n",
    "    homicide_race_per_hundredk[key] = rate\n",
    "\n",
    "print(homicide_race_per_hundredk)"
   ]
  },
  {
   "cell_type": "code",
   "execution_count": null,
   "metadata": {
    "collapsed": true
   },
   "outputs": [],
   "source": []
  }
 ],
 "metadata": {
  "anaconda-cloud": {},
  "kernelspec": {
   "display_name": "Python [conda env:aind]",
   "language": "python",
   "name": "conda-env-aind-py"
  },
  "language_info": {
   "codemirror_mode": {
    "name": "ipython",
    "version": 3
   },
   "file_extension": ".py",
   "mimetype": "text/x-python",
   "name": "python",
   "nbconvert_exporter": "python",
   "pygments_lexer": "ipython3",
   "version": "3.6.0"
  }
 },
 "nbformat": 4,
 "nbformat_minor": 0
}
